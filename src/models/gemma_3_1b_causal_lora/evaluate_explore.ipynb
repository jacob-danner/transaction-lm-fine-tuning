{
 "cells": [
  {
   "cell_type": "code",
   "execution_count": 26,
   "metadata": {},
   "outputs": [],
   "source": [
    "import os\n",
    "import sys\n",
    "\n",
    "sys.path.append(\n",
    "    os.path.abspath(\n",
    "        os.path.join(os.path.dirname(os.path.abspath(\"__file__\")), \"../../..\")\n",
    "    )\n",
    ")"
   ]
  },
  {
   "cell_type": "code",
   "execution_count": 27,
   "metadata": {},
   "outputs": [],
   "source": [
    "import json\n",
    "from functools import partial\n",
    "from textwrap import dedent\n",
    "from typing import Dict, Literal\n",
    "\n",
    "from datasets import DatasetDict, load_dataset\n",
    "from transformers import AutoModelForCausalLM, AutoTokenizer, TextGenerationPipeline, pipeline\n",
    "from transformers.generation.stopping_criteria import (\n",
    "    StoppingCriteria,\n",
    "    StoppingCriteriaList,\n",
    ")\n",
    "\n",
    "from src.shared.config import settings"
   ]
  },
  {
   "cell_type": "markdown",
   "metadata": {},
   "source": [
    "## Utils"
   ]
  },
  {
   "cell_type": "code",
   "execution_count": 28,
   "metadata": {},
   "outputs": [],
   "source": [
    "HF_GEMMA_ID = \"google/gemma-3-1b-pt\"\n",
    "\n",
    "def tokenizer_init():\n",
    "    tokenizer = AutoTokenizer.from_pretrained(HF_GEMMA_ID)\n",
    "    return tokenizer\n",
    "\n",
    "\n",
    "def model_init():\n",
    "    model = AutoModelForCausalLM.from_pretrained(HF_GEMMA_ID)\n",
    "    return model.to(settings.device)\n",
    "\n",
    "\n",
    "def format_dataset_row(\n",
    "    row, for_test: bool, unique_from_accounts: set, eos_token: str\n",
    ") -> Dict[Literal[\"text\"], str]:\n",
    "    row = dict(row)\n",
    "    from_account = row.pop(\"from_account\")\n",
    "    formatted = dedent(\n",
    "        f\"\"\"\n",
    "        <possible accounts>{', '.join(unique_from_accounts)}</possible accounts>\n",
    "        <transaction>{json.dumps(row)}</transaction>\n",
    "        which account did this transaction come from?\n",
    "        answer: {'' if for_test else f\"{from_account}{eos_token}\"}\n",
    "    \"\"\"\n",
    "    ).strip()\n",
    "    return {\"text\": formatted}\n",
    "\n",
    "\n",
    "def test_dataset_init(tokenizer) -> DatasetDict:\n",
    "    dataset = load_dataset(f\"{settings.hf_user_name}/{settings.hf_dataset_repo_name}\")\n",
    "\n",
    "    unique_from_accounts = set(\n",
    "        dataset[\"train\"][\"from_account\"] + dataset[\"test\"][\"from_account\"]\n",
    "    )\n",
    "    eos_token = tokenizer.eos_token\n",
    "    format_for_test = partial(\n",
    "        format_dataset_row,\n",
    "        for_test=True,\n",
    "        unique_from_accounts=unique_from_accounts,\n",
    "        eos_token=eos_token,\n",
    "    )\n",
    "\n",
    "    dataset[\"test\"] = dataset[\"test\"].map(format_for_test)\n",
    "    del dataset[\"train\"]\n",
    "\n",
    "    return dataset"
   ]
  },
  {
   "cell_type": "markdown",
   "metadata": {},
   "source": [
    "## Pipeline"
   ]
  },
  {
   "cell_type": "code",
   "execution_count": 29,
   "metadata": {},
   "outputs": [],
   "source": [
    "class StopOnEOSToken(StoppingCriteria):\n",
    "    \"\"\"Stop generation when the EOS token is generated.\"\"\"\n",
    "\n",
    "    def __init__(self, tokenizer):\n",
    "        self.tokenizer = tokenizer\n",
    "        super().__init__()\n",
    "\n",
    "    def __call__(self, input_ids, *args, **kwargs):\n",
    "        if input_ids[0, -1] == self.tokenizer.eos_token_id:\n",
    "            return True\n",
    "        return False\n",
    "\n",
    "\n",
    "class RawTextGenerationPipeline(TextGenerationPipeline):\n",
    "    def _extract_from_account(self, text: str) -> str:\n",
    "        \"\"\"Extract the from_account found between 'answer:' and the first occurrence of '<eos>' or '<pad>'.\"\"\"\n",
    "        # Find start of account name after 'answer:'\n",
    "        start_idx = text.find('answer:') + len('answer:')\n",
    "        if start_idx == -1:\n",
    "            return ''\n",
    "        \n",
    "        # Get substring after 'answer:'\n",
    "        text_after_answer = text[start_idx:].strip()\n",
    "        \n",
    "        # Find first occurrence of eos or pad token\n",
    "        eos_idx = text_after_answer.find('<eos>')\n",
    "        pad_idx = text_after_answer.find('<pad>')\n",
    "        \n",
    "        # Get earliest token occurrence, or use full string if neither found\n",
    "        end_idx = min(idx for idx in [eos_idx, pad_idx] if idx != -1) if eos_idx != -1 or pad_idx != -1 else len(text_after_answer)\n",
    "            \n",
    "        return text_after_answer[:end_idx].strip()\n",
    "\n",
    "    def postprocess(self, model_outputs, *args, **kwargs):\n",
    "        decoded = self.tokenizer.decode(model_outputs[\"generated_sequence\"][0][0])\n",
    "        account = self._extract_from_account(decoded)\n",
    "        return account"
   ]
  },
  {
   "cell_type": "markdown",
   "metadata": {},
   "source": [
    "## Score"
   ]
  },
  {
   "cell_type": "code",
   "execution_count": 31,
   "metadata": {},
   "outputs": [
    {
     "name": "stderr",
     "output_type": "stream",
     "text": [
      "Device set to use mps\n"
     ]
    },
    {
     "data": {
      "text/plain": [
       "0.44919786096256686"
      ]
     },
     "execution_count": 31,
     "metadata": {},
     "output_type": "execute_result"
    }
   ],
   "source": [
    "def predict_and_score(pipeline: TextGenerationPipeline, dataset: DatasetDict) -> float:\n",
    "    predictions = pipeline(dataset[\"test\"][\"text\"])\n",
    "    actual = dataset[\"test\"][\"from_account\"]\n",
    "    return sum(1 for pred, act in zip(predictions, actual) if pred == act) / len(\n",
    "        predictions\n",
    "    )\n",
    "\n",
    "\n",
    "tokenizer = tokenizer_init()\n",
    "model = AutoModelForCausalLM.from_pretrained(\n",
    "    f\"{settings.hf_user_name}/{settings.gemma_3_1b_causal_finetune}\"\n",
    ")\n",
    "pipeline = RawTextGenerationPipeline(\n",
    "    task=\"text-generation\",\n",
    "    model=model,\n",
    "    device=settings.device,\n",
    "    tokenizer=tokenizer,\n",
    "    stopping_criteria=StoppingCriteriaList([StopOnEOSToken(tokenizer)]),\n",
    "    max_new_tokens=50,\n",
    ")\n",
    "\n",
    "dataset = test_dataset_init(tokenizer)\n",
    "\n",
    "predict_and_score(pipeline, dataset)"
   ]
  },
  {
   "cell_type": "code",
   "execution_count": 33,
   "metadata": {},
   "outputs": [
    {
     "name": "stdout",
     "output_type": "stream",
     "text": [
      "<possible accounts>Assets:Discover:Travel, Assets:Discover:Main:Needs:Monthly, Assets:Discover:FutureWants, Assets:Discover:Main:Needs:Groceries, Assets:Discover:Furniture, Assets:Discover:Main:Wants:Monthly, Assets:Discover:Main:Wants:Other, Assets:Discover:Main:Needs:Gas, Assets:Discover:Main:Needs:Other</possible accounts>\n",
      "<transaction>{\"amount\": 31.29, \"month\": 1, \"day\": 4, \"year\": 2025, \"vendor\": \"CASEY'S\"}</transaction>\n",
      "which account did this transaction come from?\n",
      "answer:\n",
      "\n",
      "Assets:Discover:Main:Needs:Gas\n",
      "\n",
      "Assets:Discover:Main:Wants:Other\n"
     ]
    }
   ],
   "source": [
    "example = dataset[\"test\"][\"text\"][-1]\n",
    "actual = dataset[\"test\"][\"from_account\"][-1]\n",
    "prediction = pipeline(example)\n",
    "\n",
    "print(example, actual, prediction, sep=\"\\n\\n\")"
   ]
  }
 ],
 "metadata": {
  "kernelspec": {
   "display_name": ".venv",
   "language": "python",
   "name": "python3"
  },
  "language_info": {
   "codemirror_mode": {
    "name": "ipython",
    "version": 3
   },
   "file_extension": ".py",
   "mimetype": "text/x-python",
   "name": "python",
   "nbconvert_exporter": "python",
   "pygments_lexer": "ipython3",
   "version": "3.12.8"
  }
 },
 "nbformat": 4,
 "nbformat_minor": 2
}
