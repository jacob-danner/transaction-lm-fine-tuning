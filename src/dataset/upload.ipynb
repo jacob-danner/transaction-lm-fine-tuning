{
 "cells": [
  {
   "cell_type": "code",
   "execution_count": 1,
   "metadata": {},
   "outputs": [],
   "source": [
    "import os\n",
    "import sys\n",
    "\n",
    "sys.path.append(\n",
    "    os.path.abspath(os.path.join(os.path.dirname(os.path.abspath(\"__file__\")), \"../..\"))\n",
    ")\n",
    "\n",
    "from datasets import Dataset, DatasetDict\n",
    "from src.shared.config import settings\n",
    "import json"
   ]
  },
  {
   "cell_type": "code",
   "execution_count": 2,
   "metadata": {},
   "outputs": [
    {
     "data": {
      "application/vnd.jupyter.widget-view+json": {
       "model_id": "98ab18abed6140d48cc56764cd5c75b1",
       "version_major": 2,
       "version_minor": 0
      },
      "text/plain": [
       "Uploading the dataset shards:   0%|          | 0/1 [00:00<?, ?it/s]"
      ]
     },
     "metadata": {},
     "output_type": "display_data"
    },
    {
     "data": {
      "application/vnd.jupyter.widget-view+json": {
       "model_id": "333b71b6adc7495e8292f2367e8ad144",
       "version_major": 2,
       "version_minor": 0
      },
      "text/plain": [
       "Creating parquet from Arrow format:   0%|          | 0/1 [00:00<?, ?ba/s]"
      ]
     },
     "metadata": {},
     "output_type": "display_data"
    },
    {
     "data": {
      "application/vnd.jupyter.widget-view+json": {
       "model_id": "33e78276e04d498a86da5c9f53c114f1",
       "version_major": 2,
       "version_minor": 0
      },
      "text/plain": [
       "Uploading the dataset shards:   0%|          | 0/1 [00:00<?, ?it/s]"
      ]
     },
     "metadata": {},
     "output_type": "display_data"
    },
    {
     "data": {
      "application/vnd.jupyter.widget-view+json": {
       "model_id": "c5b029cf0b1345dd80132d739f2a8916",
       "version_major": 2,
       "version_minor": 0
      },
      "text/plain": [
       "Creating parquet from Arrow format:   0%|          | 0/1 [00:00<?, ?ba/s]"
      ]
     },
     "metadata": {},
     "output_type": "display_data"
    },
    {
     "data": {
      "text/plain": [
       "CommitInfo(commit_url='https://huggingface.co/datasets/jacob-danner/transactions/commit/aebec5e0bdafb80b3db94d42d3e233692ca5d641', commit_message='feat: refactor dataset features. verified labels with fine tooth comb. 764 train, 193 test examples', commit_description='', oid='aebec5e0bdafb80b3db94d42d3e233692ca5d641', pr_url=None, repo_url=RepoUrl('https://huggingface.co/datasets/jacob-danner/transactions', endpoint='https://huggingface.co', repo_type='dataset', repo_id='jacob-danner/transactions'), pr_revision=None, pr_num=None)"
      ]
     },
     "execution_count": 2,
     "metadata": {},
     "output_type": "execute_result"
    }
   ],
   "source": [
    "hf_dataset_repo_name = f\"{settings.hf_user_name}/{settings.hf_dataset_repo_name}\"\n",
    "json_path = \"train_test_split.json\"\n",
    "\n",
    "with open(json_path, \"r\") as f:\n",
    "    data = json.load(f)\n",
    "\n",
    "dataset = DatasetDict(\n",
    "    {\"train\": Dataset.from_list(data[\"train\"]), \"test\": Dataset.from_list(data[\"test\"])}\n",
    ")\n",
    "\n",
    "dataset.push_to_hub(\n",
    "    hf_dataset_repo_name,\n",
    "    commit_message=\"feat: refactor dataset features. verified labels with fine tooth comb. 764 train, 193 test examples\",\n",
    ")"
   ]
  }
 ],
 "metadata": {
  "kernelspec": {
   "display_name": ".venv",
   "language": "python",
   "name": "python3"
  },
  "language_info": {
   "codemirror_mode": {
    "name": "ipython",
    "version": 3
   },
   "file_extension": ".py",
   "mimetype": "text/x-python",
   "name": "python",
   "nbconvert_exporter": "python",
   "pygments_lexer": "ipython3",
   "version": "3.12.8"
  }
 },
 "nbformat": 4,
 "nbformat_minor": 2
}
