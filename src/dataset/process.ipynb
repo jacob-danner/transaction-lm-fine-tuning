{
 "cells": [
  {
   "cell_type": "code",
   "execution_count": 1,
   "metadata": {},
   "outputs": [],
   "source": [
    "import pandas as pd\n",
    "import json"
   ]
  },
  {
   "cell_type": "markdown",
   "metadata": {},
   "source": [
    "Example row of the dataset"
   ]
  },
  {
   "cell_type": "code",
   "execution_count": 2,
   "metadata": {},
   "outputs": [
    {
     "data": {
      "text/plain": [
       "amount                                         16.36\n",
       "month                                              1\n",
       "day                                               17\n",
       "year                                            2023\n",
       "vendor                                          ALDI\n",
       "from_account    Assets:Discover:Main:Needs:Groceries\n",
       "Name: 0, dtype: object"
      ]
     },
     "execution_count": 2,
     "metadata": {},
     "output_type": "execute_result"
    }
   ],
   "source": [
    "pd.read_json(\"raw_data.json\").loc[0]"
   ]
  },
  {
   "cell_type": "code",
   "execution_count": 3,
   "metadata": {},
   "outputs": [],
   "source": [
    "def from_account_counts(df):\n",
    "    return df.groupby(\"from_account\").size().sort_values()"
   ]
  },
  {
   "cell_type": "code",
   "execution_count": 4,
   "metadata": {},
   "outputs": [
    {
     "data": {
      "text/plain": [
       "from_account\n",
       "Assets:Discover:FutureWants:Macbook           2\n",
       "Assets:Discover:Furniture                     3\n",
       "Assets:Discover:FutureWants:Snowboarding      3\n",
       "Assets:Discover:FutureWants:Christmas        10\n",
       "Assets:Discover:FutureWants                  12\n",
       "Assets:Discover:Main:Needs:Other             24\n",
       "Assets:Discover:Main:Needs:Monthly           31\n",
       "Assets:Discover:Main:Needs:Gas               38\n",
       "Assets:Discover:Travel                       62\n",
       "Assets:Discover:Main:Needs:Groceries        159\n",
       "Assets:Discover:Main:Wants:Monthly          168\n",
       "Assets:Discover:Main:Wants:Other            418\n",
       "dtype: int64"
      ]
     },
     "execution_count": 4,
     "metadata": {},
     "output_type": "execute_result"
    }
   ],
   "source": [
    "from_account_counts(pd.read_json(\"raw_data.json\"))"
   ]
  },
  {
   "cell_type": "markdown",
   "metadata": {},
   "source": [
    "There are a number of accounts that have very low counts, because they are very specific. For these accounts I'll group them together."
   ]
  },
  {
   "cell_type": "code",
   "execution_count": 5,
   "metadata": {},
   "outputs": [
    {
     "data": {
      "text/plain": [
       "from_account\n",
       "Assets:Discover:Furniture                 3\n",
       "Assets:Discover:Main:Needs:Other         24\n",
       "Assets:Discover:FutureWants              27\n",
       "Assets:Discover:Main:Needs:Monthly       31\n",
       "Assets:Discover:Main:Needs:Gas           38\n",
       "Assets:Discover:Travel                   62\n",
       "Assets:Discover:Main:Needs:Groceries    159\n",
       "Assets:Discover:Main:Wants:Monthly      168\n",
       "Assets:Discover:Main:Wants:Other        418\n",
       "dtype: int64"
      ]
     },
     "execution_count": 5,
     "metadata": {},
     "output_type": "execute_result"
    }
   ],
   "source": [
    "processed = pd.read_json(\"raw_data.json\").assign(\n",
    "    from_account=lambda df: df[\"from_account\"].apply(\n",
    "        lambda account: (\n",
    "            \"Assets:Discover:FutureWants\" if \"FutureWants\" in account else account\n",
    "        )\n",
    "    )\n",
    ")\n",
    "\n",
    "from_account_counts(processed)"
   ]
  },
  {
   "cell_type": "code",
   "execution_count": 6,
   "metadata": {},
   "outputs": [
    {
     "name": "stdout",
     "output_type": "stream",
     "text": [
      "train:\n",
      "from_account\n",
      "Assets:Discover:Furniture                 2\n",
      "Assets:Discover:Main:Needs:Other         19\n",
      "Assets:Discover:FutureWants              22\n",
      "Assets:Discover:Main:Needs:Monthly       25\n",
      "Assets:Discover:Main:Needs:Gas           30\n",
      "Assets:Discover:Travel                   50\n",
      "Assets:Discover:Main:Needs:Groceries    127\n",
      "Assets:Discover:Main:Wants:Monthly      134\n",
      "Assets:Discover:Main:Wants:Other        334\n",
      "dtype: int64\n",
      "\n",
      "test:\n",
      "from_account\n",
      "Assets:Discover:Furniture                1\n",
      "Assets:Discover:FutureWants              5\n",
      "Assets:Discover:Main:Needs:Other         5\n",
      "Assets:Discover:Main:Needs:Monthly       6\n",
      "Assets:Discover:Main:Needs:Gas           8\n",
      "Assets:Discover:Travel                  12\n",
      "Assets:Discover:Main:Needs:Groceries    32\n",
      "Assets:Discover:Main:Wants:Monthly      34\n",
      "Assets:Discover:Main:Wants:Other        84\n",
      "dtype: int64\n"
     ]
    }
   ],
   "source": [
    "train_indices = []\n",
    "for _, group in processed.groupby(\"from_account\"):\n",
    "    train_indices.extend(group.sample(frac=0.8, random_state=0).index)\n",
    "\n",
    "train = processed.loc[train_indices]\n",
    "test = processed.drop(train_indices)\n",
    "\n",
    "print(f\"train:\\n{from_account_counts(train)}\\n\")\n",
    "print(f\"test:\\n{from_account_counts(test)}\")"
   ]
  },
  {
   "cell_type": "code",
   "execution_count": 7,
   "metadata": {},
   "outputs": [],
   "source": [
    "writable = {\n",
    "    \"train\": train.to_dict(orient=\"records\"),\n",
    "    \"test\": test.to_dict(orient=\"records\"),\n",
    "}\n",
    "\n",
    "with open(\"processed_data.json\", \"w\") as f:\n",
    "    json.dump(writable, f, indent=4)"
   ]
  }
 ],
 "metadata": {
  "kernelspec": {
   "display_name": ".venv",
   "language": "python",
   "name": "python3"
  },
  "language_info": {
   "codemirror_mode": {
    "name": "ipython",
    "version": 3
   },
   "file_extension": ".py",
   "mimetype": "text/x-python",
   "name": "python",
   "nbconvert_exporter": "python",
   "pygments_lexer": "ipython3",
   "version": "3.12.8"
  }
 },
 "nbformat": 4,
 "nbformat_minor": 2
}
