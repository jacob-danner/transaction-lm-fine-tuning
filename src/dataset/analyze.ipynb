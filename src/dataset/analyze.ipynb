{
 "cells": [
  {
   "cell_type": "markdown",
   "id": "a005f511",
   "metadata": {},
   "source": [
    "## How many tokens are in my dataset?"
   ]
  },
  {
   "cell_type": "code",
   "execution_count": null,
   "id": "c071855c",
   "metadata": {},
   "outputs": [],
   "source": [
    "import os\n",
    "import sys\n",
    "\n",
    "sys.path.append(\n",
    "    os.path.abspath(os.path.join(os.path.dirname(os.path.abspath(\"__file__\")), \"../..\"))\n",
    ")\n",
    "\n",
    "from datasets import DatasetDict, load_dataset\n",
    "from transformers import AutoTokenizer\n",
    "from src.shared.config import settings\n",
    "import json\n",
    "from functools import partial\n",
    "from typing import Literal, Dict\n",
    "from textwrap import dedent\n",
    "\n",
    "HF_GEMMA_ID = \"google/gemma-3-1b-pt\""
   ]
  },
  {
   "cell_type": "code",
   "execution_count": 25,
   "id": "39a8dee9",
   "metadata": {},
   "outputs": [],
   "source": [
    "def tokenizer_init():\n",
    "    tokenizer = AutoTokenizer.from_pretrained(HF_GEMMA_ID)\n",
    "    return tokenizer\n",
    "\n",
    "\n",
    "def format_dataset_row(row, eos_token: str) -> Dict[Literal[\"text\"], str]:\n",
    "    row = dict(row)\n",
    "    from_account = row.pop(\"from_account\")\n",
    "    formatted = dedent(\n",
    "        f\"\"\"\n",
    "        input: {json.dumps(row)}\n",
    "        label: {f\"{from_account}{eos_token}\"}\n",
    "        \"\"\"\n",
    "    ).strip()\n",
    "    return {\"text\": formatted}\n",
    "\n",
    "\n",
    "def training_dataset_init(tokenizer) -> DatasetDict:\n",
    "    dataset = load_dataset(\n",
    "        f\"{settings.hf_user_name}/{settings.hf_dataset_repo_name}\"\n",
    "    ).shuffle(0)\n",
    "\n",
    "    eos_token = tokenizer.eos_token\n",
    "    format_for_train = partial(\n",
    "        format_dataset_row,\n",
    "        eos_token=eos_token,\n",
    "    )\n",
    "\n",
    "    dataset[\"train\"] = dataset[\"train\"].map(format_for_train)\n",
    "    dataset[\"validation\"] = dataset[\"test\"].map(format_for_train)\n",
    "    del dataset[\"test\"]\n",
    "\n",
    "    remove_columns = [\n",
    "        \"transaction_date\",\n",
    "        \"description\",\n",
    "        \"amount\",\n",
    "        \"category\",\n",
    "        \"category_source\",\n",
    "        \"card\",\n",
    "        \"day_of_week\",\n",
    "        \"from_account\",\n",
    "        \"text\",\n",
    "    ]\n",
    "\n",
    "    dataset = dataset.map(\n",
    "        lambda batch: tokenizer(batch[\"text\"]),\n",
    "        batched=True,\n",
    "        remove_columns=remove_columns,\n",
    "    )\n",
    "    dataset.set_format(\"pt\")\n",
    "    return dataset"
   ]
  },
  {
   "cell_type": "code",
   "execution_count": 26,
   "id": "571b7ffe",
   "metadata": {},
   "outputs": [
    {
     "data": {
      "text/plain": [
       "(93603, 97.80877742946709)"
      ]
     },
     "execution_count": 26,
     "metadata": {},
     "output_type": "execute_result"
    }
   ],
   "source": [
    "dataset = training_dataset_init(tokenizer_init())\n",
    "\n",
    "token_counts = [\n",
    "    len(t) for t in dataset[\"train\"][\"input_ids\"] + dataset[\"validation\"][\"input_ids\"]\n",
    "]\n",
    "n_tokens = sum(token_counts)\n",
    "\n",
    "average_token_count = n_tokens / len(token_counts)\n",
    "\n",
    "n_tokens, average_token_count"
   ]
  }
 ],
 "metadata": {
  "kernelspec": {
   "display_name": ".venv",
   "language": "python",
   "name": "python3"
  },
  "language_info": {
   "codemirror_mode": {
    "name": "ipython",
    "version": 3
   },
   "file_extension": ".py",
   "mimetype": "text/x-python",
   "name": "python",
   "nbconvert_exporter": "python",
   "pygments_lexer": "ipython3",
   "version": "3.12.8"
  }
 },
 "nbformat": 4,
 "nbformat_minor": 5
}
