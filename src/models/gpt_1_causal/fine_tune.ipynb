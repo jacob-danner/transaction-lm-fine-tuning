{
 "cells": [
  {
   "cell_type": "code",
   "execution_count": 1,
   "metadata": {},
   "outputs": [],
   "source": [
    "import os\n",
    "import sys\n",
    "\n",
    "sys.path.append(\n",
    "    os.path.abspath(\n",
    "        os.path.join(os.path.dirname(os.path.abspath(\"__file__\")), \"../../..\")\n",
    "    )\n",
    ")"
   ]
  },
  {
   "cell_type": "code",
   "execution_count": 2,
   "metadata": {},
   "outputs": [],
   "source": [
    "import json\n",
    "from functools import partial\n",
    "from textwrap import dedent\n",
    "from typing import Dict, Literal\n",
    "\n",
    "from datasets import DatasetDict, load_dataset\n",
    "from transformers import (\n",
    "    AutoModelForCausalLM,\n",
    "    AutoTokenizer,\n",
    "    DataCollatorForLanguageModeling,\n",
    "    EarlyStoppingCallback,\n",
    "    Trainer,\n",
    "    TrainingArguments,\n",
    ")\n",
    "\n",
    "from src.shared.config import settings"
   ]
  },
  {
   "cell_type": "markdown",
   "metadata": {},
   "source": [
    "## Utils"
   ]
  },
  {
   "cell_type": "code",
   "execution_count": 6,
   "metadata": {},
   "outputs": [],
   "source": [
    "HF_GPT_ID = \"openai-gpt\"\n",
    "\n",
    "\n",
    "def tokenizer_init():\n",
    "    tokenizer = AutoTokenizer.from_pretrained(HF_GPT_ID)\n",
    "    tokenizer.add_special_tokens(\n",
    "        {\"pad_token\": \"<pad>\", \"eos_token\": \"<eos>\"}\n",
    "    )  # gpt-1 tokenizer lacks these by default\n",
    "    return tokenizer\n",
    "\n",
    "\n",
    "def model_init():\n",
    "    tokenizer = tokenizer_init()\n",
    "    model = AutoModelForCausalLM.from_pretrained(HF_GPT_ID)\n",
    "    model.resize_token_embeddings(\n",
    "        len(tokenizer), mean_resizing=False\n",
    "    )  # extend the embedding layer to handle padding and eos tokens\n",
    "    model.config.pad_token_id = tokenizer.pad_token_id\n",
    "    model.config.eos_token_id = tokenizer.eos_token_id\n",
    "    return model.to(settings.device)\n",
    "\n",
    "\n",
    "def format_dataset_row(\n",
    "    row, for_test: bool, unique_from_accounts: set, eos_token: str\n",
    ") -> Dict[Literal[\"text\"], str]:\n",
    "    # currently not using unique_from_accounts\n",
    "    row = dict(row)\n",
    "    from_account = row.pop(\"from_account\")\n",
    "    formatted = dedent(\n",
    "        f\"\"\"\n",
    "        Transaction\n",
    "        -----------\n",
    "        Description: {row['description']}\n",
    "        Amount: {row['amount']}\n",
    "        Category: {row['category']} (Source: {row['category_source']})\n",
    "        Transaction Date: {row['transaction_date']}\n",
    "        Day of Week: {row['day_of_week']}\n",
    "        Card: {row['card']}\n",
    "\n",
    "        Question: Which account initiated this transaction?\n",
    "        Answer: {'' if for_test else f\"{from_account}{eos_token}\"}\n",
    "        \"\"\"\n",
    "    ).strip()\n",
    "    return {\"text\": formatted}\n",
    "\n",
    "\n",
    "def training_dataset_init(tokenizer) -> DatasetDict:\n",
    "    dataset = load_dataset(f\"{settings.hf_user_name}/{settings.hf_dataset_repo_name}\").shuffle(0)\n",
    "\n",
    "    unique_from_accounts = set(\n",
    "        dataset[\"train\"][\"from_account\"] + dataset[\"test\"][\"from_account\"]\n",
    "    )\n",
    "    eos_token = tokenizer.eos_token\n",
    "    format_for_train = partial(\n",
    "        format_dataset_row,\n",
    "        for_test=False,\n",
    "        unique_from_accounts=unique_from_accounts,\n",
    "        eos_token=eos_token,\n",
    "    )\n",
    "\n",
    "    dataset[\"train\"] = dataset[\"train\"].map(format_for_train)\n",
    "    dataset[\"validation\"] = dataset[\"test\"].map(format_for_train)\n",
    "    del dataset[\"test\"]\n",
    "\n",
    "    remove_columns = ['transaction_date', 'description', 'amount', 'category', 'category_source', 'card', 'day_of_week', 'from_account', 'text']\n",
    "\n",
    "    dataset = dataset.map(\n",
    "        lambda batch: tokenizer(batch[\"text\"]),\n",
    "        batched=True,\n",
    "        remove_columns=remove_columns,\n",
    "    )\n",
    "    dataset.set_format(\"pt\")\n",
    "    return dataset"
   ]
  },
  {
   "cell_type": "code",
   "execution_count": 7,
   "metadata": {},
   "outputs": [
    {
     "data": {
      "application/vnd.jupyter.widget-view+json": {
       "model_id": "95f06ef6f8394d41b3d1ce12cfd0f157",
       "version_major": 2,
       "version_minor": 0
      },
      "text/plain": [
       "Map:   0%|          | 0/764 [00:00<?, ? examples/s]"
      ]
     },
     "metadata": {},
     "output_type": "display_data"
    },
    {
     "data": {
      "application/vnd.jupyter.widget-view+json": {
       "model_id": "83696943bc554bfc9fd6f0707ad44a57",
       "version_major": 2,
       "version_minor": 0
      },
      "text/plain": [
       "Map:   0%|          | 0/193 [00:00<?, ? examples/s]"
      ]
     },
     "metadata": {},
     "output_type": "display_data"
    },
    {
     "data": {
      "application/vnd.jupyter.widget-view+json": {
       "model_id": "0c73920d21fa4078b2e077f37eadda5f",
       "version_major": 2,
       "version_minor": 0
      },
      "text/plain": [
       "Map:   0%|          | 0/764 [00:00<?, ? examples/s]"
      ]
     },
     "metadata": {},
     "output_type": "display_data"
    },
    {
     "data": {
      "application/vnd.jupyter.widget-view+json": {
       "model_id": "33218e12d9be481aa7665eded8017fc9",
       "version_major": 2,
       "version_minor": 0
      },
      "text/plain": [
       "Map:   0%|          | 0/193 [00:00<?, ? examples/s]"
      ]
     },
     "metadata": {},
     "output_type": "display_data"
    }
   ],
   "source": [
    "dataset = training_dataset_init(tokenizer_init())"
   ]
  },
  {
   "cell_type": "markdown",
   "metadata": {},
   "source": [
    "## Identify Best Learning Rate"
   ]
  },
  {
   "cell_type": "code",
   "execution_count": 8,
   "metadata": {},
   "outputs": [
    {
     "name": "stderr",
     "output_type": "stream",
     "text": [
      "[I 2025-03-23 15:53:23,101] A new study created in memory with name: no-name-bd64df81-bb2a-4e8d-b804-f98650ef9a6c\n"
     ]
    },
    {
     "data": {
      "text/html": [
       "\n",
       "    <div>\n",
       "      \n",
       "      <progress value='12' max='12' style='width:300px; height:20px; vertical-align: middle;'></progress>\n",
       "      [12/12 00:08, Epoch 1/1]\n",
       "    </div>\n",
       "    <table border=\"1\" class=\"dataframe\">\n",
       "  <thead>\n",
       " <tr style=\"text-align: left;\">\n",
       "      <th>Epoch</th>\n",
       "      <th>Training Loss</th>\n",
       "      <th>Validation Loss</th>\n",
       "    </tr>\n",
       "  </thead>\n",
       "  <tbody>\n",
       "    <tr>\n",
       "      <td>1</td>\n",
       "      <td>4.407900</td>\n",
       "      <td>3.595229</td>\n",
       "    </tr>\n",
       "  </tbody>\n",
       "</table><p>"
      ],
      "text/plain": [
       "<IPython.core.display.HTML object>"
      ]
     },
     "metadata": {},
     "output_type": "display_data"
    },
    {
     "name": "stderr",
     "output_type": "stream",
     "text": [
      "[I 2025-03-23 15:53:33,766] Trial 0 finished with value: 3.595229387283325 and parameters: {'learning_rate': 1.1652186096275915e-05}. Best is trial 0 with value: 3.595229387283325.\n"
     ]
    },
    {
     "data": {
      "text/html": [
       "\n",
       "    <div>\n",
       "      \n",
       "      <progress value='12' max='12' style='width:300px; height:20px; vertical-align: middle;'></progress>\n",
       "      [12/12 00:08, Epoch 1/1]\n",
       "    </div>\n",
       "    <table border=\"1\" class=\"dataframe\">\n",
       "  <thead>\n",
       " <tr style=\"text-align: left;\">\n",
       "      <th>Epoch</th>\n",
       "      <th>Training Loss</th>\n",
       "      <th>Validation Loss</th>\n",
       "    </tr>\n",
       "  </thead>\n",
       "  <tbody>\n",
       "    <tr>\n",
       "      <td>1</td>\n",
       "      <td>2.737600</td>\n",
       "      <td>1.257106</td>\n",
       "    </tr>\n",
       "  </tbody>\n",
       "</table><p>"
      ],
      "text/plain": [
       "<IPython.core.display.HTML object>"
      ]
     },
     "metadata": {},
     "output_type": "display_data"
    },
    {
     "name": "stderr",
     "output_type": "stream",
     "text": [
      "[I 2025-03-23 15:53:44,377] Trial 1 finished with value: 1.2571061849594116 and parameters: {'learning_rate': 0.0002511643502833988}. Best is trial 1 with value: 1.2571061849594116.\n"
     ]
    },
    {
     "data": {
      "text/html": [
       "\n",
       "    <div>\n",
       "      \n",
       "      <progress value='12' max='12' style='width:300px; height:20px; vertical-align: middle;'></progress>\n",
       "      [12/12 00:08, Epoch 1/1]\n",
       "    </div>\n",
       "    <table border=\"1\" class=\"dataframe\">\n",
       "  <thead>\n",
       " <tr style=\"text-align: left;\">\n",
       "      <th>Epoch</th>\n",
       "      <th>Training Loss</th>\n",
       "      <th>Validation Loss</th>\n",
       "    </tr>\n",
       "  </thead>\n",
       "  <tbody>\n",
       "    <tr>\n",
       "      <td>1</td>\n",
       "      <td>2.902600</td>\n",
       "      <td>1.652341</td>\n",
       "    </tr>\n",
       "  </tbody>\n",
       "</table><p>"
      ],
      "text/plain": [
       "<IPython.core.display.HTML object>"
      ]
     },
     "metadata": {},
     "output_type": "display_data"
    },
    {
     "name": "stderr",
     "output_type": "stream",
     "text": [
      "[I 2025-03-23 15:53:55,655] Trial 2 finished with value: 1.652341365814209 and parameters: {'learning_rate': 5.404211968714059e-05}. Best is trial 1 with value: 1.2571061849594116.\n"
     ]
    },
    {
     "data": {
      "text/html": [
       "\n",
       "    <div>\n",
       "      \n",
       "      <progress value='12' max='12' style='width:300px; height:20px; vertical-align: middle;'></progress>\n",
       "      [12/12 00:09, Epoch 1/1]\n",
       "    </div>\n",
       "    <table border=\"1\" class=\"dataframe\">\n",
       "  <thead>\n",
       " <tr style=\"text-align: left;\">\n",
       "      <th>Epoch</th>\n",
       "      <th>Training Loss</th>\n",
       "      <th>Validation Loss</th>\n",
       "    </tr>\n",
       "  </thead>\n",
       "  <tbody>\n",
       "    <tr>\n",
       "      <td>1</td>\n",
       "      <td>3.433400</td>\n",
       "      <td>2.222654</td>\n",
       "    </tr>\n",
       "  </tbody>\n",
       "</table><p>"
      ],
      "text/plain": [
       "<IPython.core.display.HTML object>"
      ]
     },
     "metadata": {},
     "output_type": "display_data"
    },
    {
     "name": "stderr",
     "output_type": "stream",
     "text": [
      "[I 2025-03-23 15:54:07,010] Trial 3 finished with value: 2.22265362739563 and parameters: {'learning_rate': 3.0452338929671888e-05}. Best is trial 1 with value: 1.2571061849594116.\n"
     ]
    },
    {
     "data": {
      "text/html": [
       "\n",
       "    <div>\n",
       "      \n",
       "      <progress value='12' max='12' style='width:300px; height:20px; vertical-align: middle;'></progress>\n",
       "      [12/12 00:09, Epoch 1/1]\n",
       "    </div>\n",
       "    <table border=\"1\" class=\"dataframe\">\n",
       "  <thead>\n",
       " <tr style=\"text-align: left;\">\n",
       "      <th>Epoch</th>\n",
       "      <th>Training Loss</th>\n",
       "      <th>Validation Loss</th>\n",
       "    </tr>\n",
       "  </thead>\n",
       "  <tbody>\n",
       "    <tr>\n",
       "      <td>1</td>\n",
       "      <td>2.688100</td>\n",
       "      <td>1.465267</td>\n",
       "    </tr>\n",
       "  </tbody>\n",
       "</table><p>"
      ],
      "text/plain": [
       "<IPython.core.display.HTML object>"
      ]
     },
     "metadata": {},
     "output_type": "display_data"
    },
    {
     "name": "stderr",
     "output_type": "stream",
     "text": [
      "[I 2025-03-23 15:54:18,410] Trial 4 finished with value: 1.4652667045593262 and parameters: {'learning_rate': 8.479060049005736e-05}. Best is trial 1 with value: 1.2571061849594116.\n"
     ]
    },
    {
     "data": {
      "text/plain": [
       "BestRun(run_id='1', objective=1.2571061849594116, hyperparameters={'learning_rate': 0.0002511643502833988}, run_summary=None)"
      ]
     },
     "execution_count": 8,
     "metadata": {},
     "output_type": "execute_result"
    }
   ],
   "source": [
    "training_args = TrainingArguments(\n",
    "    output_dir=\"/tmp/lr_search\",\n",
    "    num_train_epochs=1,\n",
    "    per_device_train_batch_size=64,\n",
    "    per_device_eval_batch_size=64,\n",
    "    weight_decay=0.01,\n",
    "    eval_strategy=\"epoch\",\n",
    "    logging_strategy=\"epoch\",\n",
    "    disable_tqdm=False,\n",
    "    push_to_hub=False,\n",
    "    log_level=\"error\",\n",
    "    save_strategy=\"no\",\n",
    "    report_to=\"none\",\n",
    ")\n",
    "\n",
    "trainer = Trainer(\n",
    "    model_init=model_init,\n",
    "    args=training_args,\n",
    "    data_collator=DataCollatorForLanguageModeling(\n",
    "        tokenizer=tokenizer_init(), mlm=False\n",
    "    ),\n",
    "    train_dataset=dataset[\"train\"],\n",
    "    eval_dataset=dataset[\"validation\"],\n",
    ")\n",
    "\n",
    "best_run = trainer.hyperparameter_search(\n",
    "    hp_space=lambda trial: {\n",
    "        \"learning_rate\": trial.suggest_float(\"learning_rate\", 1e-5, 5e-4, log=True)\n",
    "    },\n",
    "    n_trials=5,\n",
    "    direction=\"minimize\",\n",
    ")\n",
    "\n",
    "best_run"
   ]
  },
  {
   "cell_type": "markdown",
   "metadata": {},
   "source": [
    "## Training Run"
   ]
  },
  {
   "cell_type": "code",
   "execution_count": 9,
   "metadata": {},
   "outputs": [
    {
     "data": {
      "text/html": [
       "\n",
       "    <div>\n",
       "      \n",
       "      <progress value='108' max='300' style='width:300px; height:20px; vertical-align: middle;'></progress>\n",
       "      [108/300 01:47 < 03:14, 0.99 it/s, Epoch 9/25]\n",
       "    </div>\n",
       "    <table border=\"1\" class=\"dataframe\">\n",
       "  <thead>\n",
       " <tr style=\"text-align: left;\">\n",
       "      <th>Epoch</th>\n",
       "      <th>Training Loss</th>\n",
       "      <th>Validation Loss</th>\n",
       "    </tr>\n",
       "  </thead>\n",
       "  <tbody>\n",
       "    <tr>\n",
       "      <td>1</td>\n",
       "      <td>2.716600</td>\n",
       "      <td>1.091051</td>\n",
       "    </tr>\n",
       "    <tr>\n",
       "      <td>2</td>\n",
       "      <td>0.917200</td>\n",
       "      <td>0.822129</td>\n",
       "    </tr>\n",
       "    <tr>\n",
       "      <td>3</td>\n",
       "      <td>0.698200</td>\n",
       "      <td>0.717173</td>\n",
       "    </tr>\n",
       "    <tr>\n",
       "      <td>4</td>\n",
       "      <td>0.575800</td>\n",
       "      <td>0.666996</td>\n",
       "    </tr>\n",
       "    <tr>\n",
       "      <td>5</td>\n",
       "      <td>0.504000</td>\n",
       "      <td>0.651167</td>\n",
       "    </tr>\n",
       "    <tr>\n",
       "      <td>6</td>\n",
       "      <td>0.456600</td>\n",
       "      <td>0.651174</td>\n",
       "    </tr>\n",
       "    <tr>\n",
       "      <td>7</td>\n",
       "      <td>0.418700</td>\n",
       "      <td>0.650319</td>\n",
       "    </tr>\n",
       "    <tr>\n",
       "      <td>8</td>\n",
       "      <td>0.382900</td>\n",
       "      <td>0.664107</td>\n",
       "    </tr>\n",
       "    <tr>\n",
       "      <td>9</td>\n",
       "      <td>0.358900</td>\n",
       "      <td>0.669830</td>\n",
       "    </tr>\n",
       "  </tbody>\n",
       "</table><p>"
      ],
      "text/plain": [
       "<IPython.core.display.HTML object>"
      ]
     },
     "metadata": {},
     "output_type": "display_data"
    },
    {
     "data": {
      "text/plain": [
       "TrainOutput(global_step=108, training_loss=0.781011042771516, metrics={'train_runtime': 108.1923, 'train_samples_per_second': 176.538, 'train_steps_per_second': 2.773, 'total_flos': 354528099459072.0, 'train_loss': 0.781011042771516, 'epoch': 9.0})"
      ]
     },
     "execution_count": 9,
     "metadata": {},
     "output_type": "execute_result"
    }
   ],
   "source": [
    "n_epochs = 25  # will likely stop early\n",
    "best_learning_rate = 0.0002511643502833988\n",
    "\n",
    "tokenizer = tokenizer_init()\n",
    "dataset = training_dataset_init(tokenizer)\n",
    "\n",
    "training_args = TrainingArguments(\n",
    "    output_dir=\"/tmp/gpt_1_causal_finetune\",\n",
    "    per_device_train_batch_size=64,\n",
    "    per_device_eval_batch_size=64,\n",
    "    num_train_epochs=n_epochs,\n",
    "    learning_rate=best_learning_rate,\n",
    "    weight_decay=0.01,\n",
    "    eval_strategy=\"epoch\",\n",
    "    logging_strategy=\"epoch\",\n",
    "    save_strategy=\"epoch\",\n",
    "    push_to_hub=True,\n",
    "    hub_model_id=f\"{settings.hf_user_name}/{settings.gpt_1_causal_finetune}\",\n",
    "    metric_for_best_model=\"eval_loss\",\n",
    "    greater_is_better=False,\n",
    "    load_best_model_at_end=True,\n",
    "    disable_tqdm=False,\n",
    ")\n",
    "\n",
    "trainer = Trainer(\n",
    "    model_init=model_init,\n",
    "    args=training_args,\n",
    "    data_collator=DataCollatorForLanguageModeling(tokenizer=tokenizer, mlm=False),\n",
    "    train_dataset=dataset[\"train\"],\n",
    "    eval_dataset=dataset[\"validation\"],\n",
    "    callbacks=[EarlyStoppingCallback(early_stopping_patience=2)],\n",
    ")\n",
    "\n",
    "trainer.train()"
   ]
  },
  {
   "cell_type": "code",
   "execution_count": 10,
   "metadata": {},
   "outputs": [
    {
     "data": {
      "text/plain": [
       "CommitInfo(commit_url='https://huggingface.co/jacob-danner/gpt_1_causual_finetune/commit/8409d991ad4857354b47e70c9c17fc54905253f5', commit_message='feat: train on improved dataset. changed prompt to seperate transaction details rather than a dump', commit_description='', oid='8409d991ad4857354b47e70c9c17fc54905253f5', pr_url=None, repo_url=RepoUrl('https://huggingface.co/jacob-danner/gpt_1_causual_finetune', endpoint='https://huggingface.co', repo_type='model', repo_id='jacob-danner/gpt_1_causual_finetune'), pr_revision=None, pr_num=None)"
      ]
     },
     "execution_count": 10,
     "metadata": {},
     "output_type": "execute_result"
    }
   ],
   "source": [
    "trainer.push_to_hub(commit_message=\"feat: train on improved dataset. changed prompt to seperate transaction details rather than a dump\")"
   ]
  }
 ],
 "metadata": {
  "kernelspec": {
   "display_name": ".venv",
   "language": "python",
   "name": "python3"
  },
  "language_info": {
   "codemirror_mode": {
    "name": "ipython",
    "version": 3
   },
   "file_extension": ".py",
   "mimetype": "text/x-python",
   "name": "python",
   "nbconvert_exporter": "python",
   "pygments_lexer": "ipython3",
   "version": "3.12.8"
  }
 },
 "nbformat": 4,
 "nbformat_minor": 2
}
