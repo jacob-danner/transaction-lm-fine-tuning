{
 "cells": [
  {
   "cell_type": "code",
   "execution_count": 1,
   "metadata": {},
   "outputs": [],
   "source": [
    "import pandas as pd\n",
    "import json"
   ]
  },
  {
   "cell_type": "code",
   "execution_count": 12,
   "metadata": {},
   "outputs": [
    {
     "data": {
      "text/plain": [
       "957"
      ]
     },
     "execution_count": 12,
     "metadata": {},
     "output_type": "execute_result"
    }
   ],
   "source": [
    "fname = \"construct/2025-03-23/total_dataset.json\"\n",
    "df = pd.read_json(fname)\n",
    "\n",
    "len(df)"
   ]
  },
  {
   "cell_type": "markdown",
   "metadata": {},
   "source": [
    "Example row of the dataset"
   ]
  },
  {
   "cell_type": "code",
   "execution_count": 13,
   "metadata": {},
   "outputs": [
    {
     "data": {
      "text/plain": [
       "transaction_date                             2023-03-22\n",
       "description         O DONELL ACE HARDWARE DES MOINES IA\n",
       "amount                                            23.19\n",
       "category                               Home Improvement\n",
       "category_source                                Discover\n",
       "card                                 Discover It Chrome\n",
       "day_of_week                                   Wednesday\n",
       "from_account           Assets:Discover:Main:Needs:Other\n",
       "Name: 0, dtype: object"
      ]
     },
     "execution_count": 13,
     "metadata": {},
     "output_type": "execute_result"
    }
   ],
   "source": [
    "df.loc[0]"
   ]
  },
  {
   "cell_type": "code",
   "execution_count": 4,
   "metadata": {},
   "outputs": [],
   "source": [
    "def from_account_counts(df):\n",
    "    return df.groupby(\"from_account\").size().sort_values()"
   ]
  },
  {
   "cell_type": "code",
   "execution_count": 6,
   "metadata": {},
   "outputs": [
    {
     "data": {
      "text/plain": [
       "from_account\n",
       "Assets:Discover:Furniture                 4\n",
       "Assets:Discover:Main:Needs:Other         33\n",
       "Assets:Discover:Main:Wants:Monthly       38\n",
       "Assets:Discover:FutureWants              56\n",
       "Assets:Discover:Main:Needs:Gas           65\n",
       "Assets:Discover:Main:Needs:Monthly      103\n",
       "Assets:Discover:Main:Needs:Groceries    149\n",
       "Assets:Discover:Main:Wants:Other        509\n",
       "dtype: int64"
      ]
     },
     "execution_count": 6,
     "metadata": {},
     "output_type": "execute_result"
    }
   ],
   "source": [
    "from_account_counts(df)"
   ]
  },
  {
   "cell_type": "code",
   "execution_count": 14,
   "metadata": {},
   "outputs": [
    {
     "name": "stdout",
     "output_type": "stream",
     "text": [
      "train:\n",
      "from_account\n",
      "Assets:Discover:Furniture                 3\n",
      "Assets:Discover:Main:Needs:Other         26\n",
      "Assets:Discover:Main:Wants:Monthly       30\n",
      "Assets:Discover:FutureWants              45\n",
      "Assets:Discover:Main:Needs:Gas           52\n",
      "Assets:Discover:Main:Needs:Monthly       82\n",
      "Assets:Discover:Main:Needs:Groceries    119\n",
      "Assets:Discover:Main:Wants:Other        407\n",
      "dtype: int64\n",
      "len(train): 764\n",
      "\n",
      "test:\n",
      "from_account\n",
      "Assets:Discover:Furniture                 1\n",
      "Assets:Discover:Main:Needs:Other          7\n",
      "Assets:Discover:Main:Wants:Monthly        8\n",
      "Assets:Discover:FutureWants              11\n",
      "Assets:Discover:Main:Needs:Gas           13\n",
      "Assets:Discover:Main:Needs:Monthly       21\n",
      "Assets:Discover:Main:Needs:Groceries     30\n",
      "Assets:Discover:Main:Wants:Other        102\n",
      "dtype: int64\n",
      "len(test): 193\n",
      "\n"
     ]
    }
   ],
   "source": [
    "train_indices = []\n",
    "for _, group in df.groupby(\"from_account\"):\n",
    "    train_indices.extend(group.sample(frac=0.8, random_state=0).index)\n",
    "\n",
    "train = df.loc[train_indices]\n",
    "test = df.drop(train_indices)\n",
    "\n",
    "print(f\"train:\\n{from_account_counts(train)}\\nlen(train): {len(train)}\\n\")\n",
    "print(f\"test:\\n{from_account_counts(test)}\\nlen(test): {len(test)}\\n\")"
   ]
  },
  {
   "cell_type": "code",
   "execution_count": 10,
   "metadata": {},
   "outputs": [],
   "source": [
    "writable = {\n",
    "    \"train\": train.to_dict(orient=\"records\"),\n",
    "    \"test\": test.to_dict(orient=\"records\"),\n",
    "}\n",
    "\n",
    "with open(\"train_test_split.json\", \"w\") as f:\n",
    "    json.dump(writable, f, indent=4)"
   ]
  }
 ],
 "metadata": {
  "kernelspec": {
   "display_name": ".venv",
   "language": "python",
   "name": "python3"
  },
  "language_info": {
   "codemirror_mode": {
    "name": "ipython",
    "version": 3
   },
   "file_extension": ".py",
   "mimetype": "text/x-python",
   "name": "python",
   "nbconvert_exporter": "python",
   "pygments_lexer": "ipython3",
   "version": "3.12.8"
  }
 },
 "nbformat": 4,
 "nbformat_minor": 2
}
