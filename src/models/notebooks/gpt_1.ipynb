{
 "cells": [
  {
   "cell_type": "code",
   "execution_count": 1,
   "metadata": {},
   "outputs": [],
   "source": [
    "import os\n",
    "import sys\n",
    "sys.path.append(os.path.abspath(os.path.join(os.path.dirname(os.path.abspath(\"__file__\")), '../../..')))\n",
    "\n",
    "from src.models.utils import GPT1\n",
    "from src.models.test.gpt_1_causal_finetune_eval import (\n",
    "    RawTextGenerationPipeline,\n",
    "    StopOnEOSToken,\n",
    "    StoppingCriteriaList,\n",
    ")\n",
    "from src.shared.config import settings\n",
    "from transformers import AutoModelForCausalLM"
   ]
  },
  {
   "cell_type": "code",
   "execution_count": 2,
   "metadata": {},
   "outputs": [
    {
     "name": "stderr",
     "output_type": "stream",
     "text": [
      "Device set to use mps\n"
     ]
    }
   ],
   "source": [
    "tokenizer = GPT1.tokenizer_init()\n",
    "model = AutoModelForCausalLM.from_pretrained(\n",
    "    f\"{settings.hf_user_name}/{settings.gpt_1_causal_finetune}\"\n",
    ")\n",
    "pipeline = RawTextGenerationPipeline(\n",
    "    task=\"text-generation\",\n",
    "    model=model,\n",
    "    device=settings.device,\n",
    "    tokenizer=tokenizer,\n",
    "    stopping_criteria=StoppingCriteriaList([StopOnEOSToken(tokenizer)]),\n",
    "    max_new_tokens=50,\n",
    ")\n",
    "\n",
    "dataset = GPT1.test_dataset_init(tokenizer)"
   ]
  },
  {
   "cell_type": "code",
   "execution_count": 3,
   "metadata": {},
   "outputs": [
    {
     "name": "stdout",
     "output_type": "stream",
     "text": [
      "<possible accounts>Assets:Discover:Main:Wants:Monthly, Assets:Discover:FutureWants, Assets:Discover:Main:Needs:Monthly, Assets:Discover:Main:Needs:Groceries, Assets:Discover:Main:Wants:Other, Assets:Discover:Main:Needs:Other, Assets:Discover:Travel, Assets:Discover:Main:Needs:Gas, Assets:Discover:Furniture</possible accounts>\n",
      "<transaction>{\"amount\": 1.92, \"month\": 1, \"day\": 26, \"year\": 2023, \"vendor\": \"CASEY'S\"}</transaction>\n",
      "which account did this transaction come from?\n",
      "answer:\n",
      "Assets:Discover:Travel\n"
     ]
    },
    {
     "data": {
      "text/plain": [
       "'Assets:Discover:Main:Needs:Gas'"
      ]
     },
     "execution_count": 3,
     "metadata": {},
     "output_type": "execute_result"
    }
   ],
   "source": [
    "print(dataset[\"test\"][\"text\"][0])\n",
    "print(dataset[\"test\"][\"from_account\"][0])\n",
    "pipeline(dataset[\"test\"][\"text\"][0])"
   ]
  },
  {
   "cell_type": "code",
   "execution_count": 5,
   "metadata": {},
   "outputs": [
    {
     "name": "stdout",
     "output_type": "stream",
     "text": [
      "<possible accounts>Assets:Discover:Main:Wants:Monthly, Assets:Discover:FutureWants, Assets:Discover:Main:Needs:Monthly, Assets:Discover:Main:Needs:Groceries, Assets:Discover:Main:Wants:Other, Assets:Discover:Main:Needs:Other, Assets:Discover:Travel, Assets:Discover:Main:Needs:Gas, Assets:Discover:Furniture</possible accounts>\n",
      "<transaction>{\"amount\": 34.41, \"month\": 2, \"day\": 6, \"year\": 2023, \"vendor\": \"REDBUBBLE\"}</transaction>\n",
      "which account did this transaction come from?\n",
      "answer:\n",
      "Assets:Discover:Main:Wants:Other\n"
     ]
    },
    {
     "data": {
      "text/plain": [
       "187"
      ]
     },
     "execution_count": 5,
     "metadata": {},
     "output_type": "execute_result"
    }
   ],
   "source": [
    "print(dataset[\"test\"][\"text\"][1])\n",
    "print(dataset[\"test\"][\"from_account\"][1])\n",
    "pipeline(dataset[\"test\"][\"text\"][1])\n",
    "\n",
    "len(dataset[\"test\"][\"text\"])"
   ]
  },
  {
   "cell_type": "code",
   "execution_count": 6,
   "metadata": {},
   "outputs": [
    {
     "data": {
      "text/plain": [
       "145.86"
      ]
     },
     "execution_count": 6,
     "metadata": {},
     "output_type": "execute_result"
    }
   ],
   "source": [
    "187 * .78"
   ]
  }
 ],
 "metadata": {
  "kernelspec": {
   "display_name": ".venv",
   "language": "python",
   "name": "python3"
  },
  "language_info": {
   "codemirror_mode": {
    "name": "ipython",
    "version": 3
   },
   "file_extension": ".py",
   "mimetype": "text/x-python",
   "name": "python",
   "nbconvert_exporter": "python",
   "pygments_lexer": "ipython3",
   "version": "3.12.8"
  }
 },
 "nbformat": 4,
 "nbformat_minor": 2
}
