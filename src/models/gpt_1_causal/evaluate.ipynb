{
 "cells": [
  {
   "cell_type": "code",
   "execution_count": 1,
   "metadata": {},
   "outputs": [],
   "source": [
    "import os\n",
    "import sys\n",
    "\n",
    "sys.path.append(\n",
    "    os.path.abspath(\n",
    "        os.path.join(os.path.dirname(os.path.abspath(\"__file__\")), \"../../..\")\n",
    "    )\n",
    ")"
   ]
  },
  {
   "cell_type": "code",
   "execution_count": 2,
   "metadata": {},
   "outputs": [],
   "source": [
    "import json\n",
    "from functools import partial\n",
    "from textwrap import dedent\n",
    "from typing import Dict, Literal\n",
    "\n",
    "from datasets import DatasetDict, load_dataset\n",
    "from transformers import AutoModelForCausalLM, AutoTokenizer, TextGenerationPipeline\n",
    "from transformers.generation.stopping_criteria import (\n",
    "    StoppingCriteria,\n",
    "    StoppingCriteriaList,\n",
    ")\n",
    "\n",
    "from src.shared.config import settings"
   ]
  },
  {
   "cell_type": "markdown",
   "metadata": {},
   "source": [
    "## Utils"
   ]
  },
  {
   "cell_type": "code",
   "execution_count": 3,
   "metadata": {},
   "outputs": [],
   "source": [
    "HF_GPT_ID = \"openai-gpt\"\n",
    "\n",
    "\n",
    "def tokenizer_init():\n",
    "    tokenizer = AutoTokenizer.from_pretrained(HF_GPT_ID)\n",
    "    tokenizer.add_special_tokens(\n",
    "        {\"pad_token\": \"<pad>\", \"eos_token\": \"<eos>\"}\n",
    "    )  # gpt-1 tokenizer lacks these by default\n",
    "    return tokenizer\n",
    "\n",
    "\n",
    "def model_init():\n",
    "    tokenizer = tokenizer_init()\n",
    "    model = AutoModelForCausalLM.from_pretrained(HF_GPT_ID)\n",
    "    model.resize_token_embeddings(\n",
    "        len(tokenizer), mean_resizing=False\n",
    "    )  # extend the embedding layer to handle padding and eos tokens\n",
    "    model.config.pad_token_id = tokenizer.pad_token_id\n",
    "    model.config.eos_token_id = tokenizer.eos_token_id\n",
    "    return model.to(settings.device)\n",
    "\n",
    "\n",
    "def format_dataset_row(\n",
    "    row, for_test: bool, unique_from_accounts: set, eos_token: str\n",
    ") -> Dict[Literal[\"text\"], str]:\n",
    "    row = dict(row)\n",
    "    from_account = row.pop(\"from_account\")\n",
    "    formatted = dedent(\n",
    "        f\"\"\"\n",
    "        <possible accounts>{', '.join(unique_from_accounts)}</possible accounts>\n",
    "        <transaction>{json.dumps(row)}</transaction>\n",
    "        which account did this transaction come from?\n",
    "        answer: {'' if for_test else f\"{from_account}{eos_token}\" }\n",
    "    \"\"\"\n",
    "    ).strip()\n",
    "    return {\"text\": formatted}\n",
    "\n",
    "\n",
    "def test_dataset_init(tokenizer) -> DatasetDict:\n",
    "    dataset = load_dataset(f\"{settings.hf_user_name}/{settings.hf_dataset_repo_name}\")\n",
    "\n",
    "    unique_from_accounts = set(\n",
    "        dataset[\"train\"][\"from_account\"] + dataset[\"test\"][\"from_account\"]\n",
    "    )\n",
    "    eos_token = tokenizer.eos_token\n",
    "    format_for_test = partial(\n",
    "        format_dataset_row,\n",
    "        for_test=True,\n",
    "        unique_from_accounts=unique_from_accounts,\n",
    "        eos_token=eos_token,\n",
    "    )\n",
    "\n",
    "    dataset[\"test\"] = dataset[\"test\"].map(format_for_test)\n",
    "    del dataset[\"train\"]\n",
    "\n",
    "    return dataset"
   ]
  },
  {
   "cell_type": "markdown",
   "metadata": {},
   "source": [
    "## Pipeline"
   ]
  },
  {
   "cell_type": "code",
   "execution_count": 4,
   "metadata": {},
   "outputs": [],
   "source": [
    "class StopOnEOSToken(StoppingCriteria):\n",
    "    \"\"\"Stop generation when the EOS token is generated.\"\"\"\n",
    "\n",
    "    def __init__(self, tokenizer):\n",
    "        self.tokenizer = tokenizer\n",
    "        super().__init__()\n",
    "\n",
    "    def __call__(self, input_ids, *args, **kwargs):\n",
    "        if input_ids[0, -1] == self.tokenizer.eos_token_id:\n",
    "            return True\n",
    "        return False\n",
    "\n",
    "\n",
    "class RawTextGenerationPipeline(TextGenerationPipeline):\n",
    "    def _extract_from_account(self, text: str) -> str:\n",
    "        \"\"\"Extract the from_account found between 'answer:' and the first occurrence of '<eos>' or '<pad>'.\"\"\"\n",
    "        answer_search = \"answer :\"\n",
    "        answer_start = text.find(answer_search)\n",
    "        if answer_start == -1:\n",
    "            return \"\"\n",
    "        answer_end = answer_start + len(answer_search)\n",
    "\n",
    "        # Find indices of <eos> and <pad> after answer_end\n",
    "        eos_index = text.find(\"<eos>\", answer_end)\n",
    "        pad_index = text.find(\"<pad>\", answer_end)\n",
    "\n",
    "        # Default to end of text if not found\n",
    "        eos_index = eos_index if eos_index != -1 else len(text)\n",
    "        pad_index = pad_index if pad_index != -1 else len(text)\n",
    "\n",
    "        end_index = min(eos_index, pad_index)\n",
    "        account = text[answer_end:end_index].replace(\" \", \"\").strip()\n",
    "\n",
    "        def title_case_account(account_str: str) -> str:\n",
    "            mapping = {\n",
    "                \"assets:discover:furniture\": \"Assets:Discover:Furniture\",\n",
    "                \"assets:discover:main:needs:other\": \"Assets:Discover:Main:Needs:Other\",\n",
    "                \"assets:discover:main:wants:monthly\": \"Assets:Discover:Main:Wants:Monthly\",\n",
    "                \"assets:discover:main:wants:other\": \"Assets:Discover:Main:Wants:Other\",\n",
    "                \"assets:discover:main:needs:groceries\": \"Assets:Discover:Main:Needs:Groceries\",\n",
    "                \"assets:discover:main:needs:gas\": \"Assets:Discover:Main:Needs:Gas\",\n",
    "                \"assets:discover:futurewants\": \"Assets:Discover:FutureWants\",\n",
    "                \"assets:discover:travel\": \"Assets:Discover:Travel\",\n",
    "                \"assets:discover:main:needs:monthly\": \"Assets:Discover:Main:Needs:Monthly\",\n",
    "            }\n",
    "            return mapping.get(\n",
    "                account_str,\n",
    "                \":\".join(word.capitalize() for word in account_str.split(\":\")),\n",
    "            )\n",
    "\n",
    "        return title_case_account(account)\n",
    "\n",
    "    def postprocess(self, model_outputs, *args, **kwargs):\n",
    "        decoded = self.tokenizer.decode(model_outputs[\"generated_sequence\"][0][0])\n",
    "        account = self._extract_from_account(decoded)\n",
    "        return account"
   ]
  },
  {
   "cell_type": "markdown",
   "metadata": {},
   "source": [
    "## Score"
   ]
  },
  {
   "cell_type": "code",
   "execution_count": 5,
   "metadata": {},
   "outputs": [
    {
     "name": "stderr",
     "output_type": "stream",
     "text": [
      "Device set to use mps\n"
     ]
    },
    {
     "data": {
      "text/plain": [
       "0.7433155080213903"
      ]
     },
     "execution_count": 5,
     "metadata": {},
     "output_type": "execute_result"
    }
   ],
   "source": [
    "def predict_and_score(pipeline: TextGenerationPipeline, dataset: DatasetDict) -> float:\n",
    "    predictions = pipeline(dataset[\"test\"][\"text\"])\n",
    "    actual = dataset[\"test\"][\"from_account\"]\n",
    "    return sum(1 for pred, act in zip(predictions, actual) if pred == act) / len(\n",
    "        predictions\n",
    "    )\n",
    "\n",
    "\n",
    "tokenizer = tokenizer_init()\n",
    "model = AutoModelForCausalLM.from_pretrained(\n",
    "    f\"{settings.hf_user_name}/{settings.gpt_1_causal_finetune}\"\n",
    ")\n",
    "pipeline = RawTextGenerationPipeline(\n",
    "    task=\"text-generation\",\n",
    "    model=model,\n",
    "    device=settings.device,\n",
    "    tokenizer=tokenizer,\n",
    "    stopping_criteria=StoppingCriteriaList([StopOnEOSToken(tokenizer)]),\n",
    "    max_new_tokens=50,\n",
    ")\n",
    "\n",
    "dataset = test_dataset_init(tokenizer)\n",
    "\n",
    "predict_and_score(pipeline, dataset)"
   ]
  },
  {
   "cell_type": "code",
   "execution_count": 6,
   "metadata": {},
   "outputs": [
    {
     "name": "stdout",
     "output_type": "stream",
     "text": [
      "<possible accounts>Assets:Discover:Main:Needs:Groceries, Assets:Discover:Main:Needs:Monthly, Assets:Discover:Main:Wants:Monthly, Assets:Discover:Main:Needs:Other, Assets:Discover:Travel, Assets:Discover:FutureWants, Assets:Discover:Main:Wants:Other, Assets:Discover:Main:Needs:Gas, Assets:Discover:Furniture</possible accounts>\n",
      "<transaction>{\"amount\": 89.99, \"month\": 6, \"day\": 4, \"year\": 2023, \"vendor\": \"WALMART\"}</transaction>\n",
      "which account did this transaction come from?\n",
      "answer:\n",
      "\n",
      "Assets:Discover:Main:Needs:Groceries\n",
      "\n",
      "Assets:Discover:Main:Needs:Groceries\n"
     ]
    }
   ],
   "source": [
    "example = dataset[\"test\"][\"text\"][21]\n",
    "actual = dataset[\"test\"][\"from_account\"][21]\n",
    "prediction = pipeline(example)\n",
    "\n",
    "print(example, actual, prediction, sep=\"\\n\\n\")"
   ]
  }
 ],
 "metadata": {
  "kernelspec": {
   "display_name": ".venv",
   "language": "python",
   "name": "python3"
  },
  "language_info": {
   "codemirror_mode": {
    "name": "ipython",
    "version": 3
   },
   "file_extension": ".py",
   "mimetype": "text/x-python",
   "name": "python",
   "nbconvert_exporter": "python",
   "pygments_lexer": "ipython3",
   "version": "3.12.8"
  }
 },
 "nbformat": 4,
 "nbformat_minor": 2
}
